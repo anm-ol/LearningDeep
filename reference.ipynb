{
 "cells": [
  {
   "cell_type": "code",
   "execution_count": 1,
   "metadata": {},
   "outputs": [],
   "source": [
    "#@title 256 dims\n",
    "import os\n",
    "import torch\n",
    "import torch.nn as nn\n",
    "import torchvision\n",
    "import torchvision.transforms as transforms\n",
    "from torch.utils.data import DataLoader\n",
    "from torchvision.datasets import ImageFolder\n",
    "import numpy as np\n",
    "from torch.utils.tensorboard import SummaryWriter\n",
    "from tensorboard import notebook\n",
    "from torch.cuda.amp import GradScaler, autocast\n",
    "import torch.nn.functional as F\n",
    "\n",
    "# Set the device (GPU or CPU)\n",
    "device = torch.device(\"cuda\" if torch.cuda.is_available() else \"cpu\")\n",
    "\n",
    "# Set the hyperparameters\n",
    "batch_size = 32\n",
    "num_epochs = 100\n",
    "learning_rate = 0.0005\n",
    "weight_decay = 0.05  # Increased weight decay\n",
    "save_interval = 1\n",
    "accumulation_steps = 2  # Gradient accumulation steps\n",
    "max_grad_norm = 5.0  # Maximum gradient norm for gradient clipping\n",
    "save_dir = '/content/drive/MyDrive/AutoEncoder-Saves'  # Directory to save checkpoints\n",
    "\n",
    "# Create the save directory if it does not exist\n",
    "if not os.path.exists(save_dir):\n",
    "    os.makedirs(save_dir)\n",
    "\n",
    "# Data transformations\n",
    "transform = transforms.Compose([\n",
    "    transforms.Resize((256, 256)),\n",
    "    transforms.ToTensor(),\n",
    "    transforms.Normalize(mean=[0.5, 0.5, 0.5], std=[0.5, 0.5, 0.5])\n",
    "])\n"
   ]
  },
  {
   "cell_type": "code",
   "execution_count": 2,
   "metadata": {},
   "outputs": [
    {
     "data": {
      "text/plain": [
       "torch.Size([1, 3, 64, 64])"
      ]
     },
     "execution_count": 2,
     "metadata": {},
     "output_type": "execute_result"
    }
   ],
   "source": [
    "from torchvision import transforms\n",
    "from torch.utils.data import Dataset, DataLoader\n",
    "from PIL import Image\n",
    "import os\n",
    "import torch\n",
    "\n",
    "transform = transforms.Compose([\n",
    "    transforms.Resize((64, 64)),    # Resize images to 128x128\n",
    "    transforms.ToTensor(),            # Convert images to PyTorch tensors\n",
    "    transforms.Normalize(mean=[0.485, 0.456, 0.406], std=[0.229, 0.224, 0.225])  # Normalize\n",
    "])\n",
    "class marioDataset(Dataset):\n",
    "    def __init__(self, path_dir, num_frames=4, transform=None):\n",
    "        self.dir = path_dir\n",
    "        self.num_frames = num_frames\n",
    "        self.transform = transform\n",
    "        self.image_files = [f for f in os.listdir(path_dir) if os.path.isfile(os.path.join(path_dir, f))]\n",
    "\n",
    "    def __len__(self):\n",
    "        return len(self.image_files)//self.num_frames \n",
    "    \n",
    "    def __getitem__(self, idx):\n",
    "        # Load the image from the file\n",
    "        images = []\n",
    "        for i in range(self.num_frames):\n",
    "            img_path = os.path.join(self.dir, self.image_files[idx + i])\n",
    "            with Image.open(img_path).convert(\"RGB\") as image:\n",
    "                image = self.transform(image)\n",
    "                images.append(image)\n",
    "        images = torch.stack(images)\n",
    "        return images\n",
    "    \n",
    "dataset = marioDataset(path_dir='data/mario/',num_frames=1, transform=transform)\n",
    "data_loader = DataLoader(dataset, batch_size=4, shuffle=True)\n",
    "dataset[0].shape"
   ]
  },
  {
   "cell_type": "code",
   "execution_count": 3,
   "metadata": {},
   "outputs": [],
   "source": [
    "# Define the autoencoder model with residual connections\n",
    "class ResidualBlock(nn.Module):\n",
    "    def __init__(self, in_channels, out_channels, stride=1, momentum=0.1):\n",
    "        super(ResidualBlock, self).__init__()\n",
    "        self.conv1 = nn.Conv2d(in_channels, out_channels, kernel_size=3, stride=stride, padding=1)\n",
    "        self.bn1 = nn.BatchNorm2d(out_channels, momentum=momentum)\n",
    "        self.relu = nn.LeakyReLU(0.2)\n",
    "        self.conv2 = nn.Conv2d(out_channels, out_channels, kernel_size=3, stride=1, padding=1)\n",
    "        self.bn2 = nn.BatchNorm2d(out_channels, momentum=momentum)\n",
    "        self.skip_connection = nn.Sequential()\n",
    "        if stride != 1 or in_channels != out_channels:\n",
    "            self.skip_connection = nn.Sequential(\n",
    "                nn.Conv2d(in_channels, out_channels, kernel_size=1, stride=stride),\n",
    "                nn.BatchNorm2d(out_channels, momentum=momentum)\n",
    "            )\n",
    "\n",
    "    def forward(self, x):\n",
    "        residual = self.skip_connection(x)\n",
    "        out = self.conv1(x)\n",
    "        out = self.bn1(out)\n",
    "        out = self.relu(out)\n",
    "        out = self.conv2(out)\n",
    "        out = self.bn2(out)\n",
    "        out += residual\n",
    "        out = self.relu(out)\n",
    "        return out\n",
    "\n",
    "class Autoencoder(nn.Module):\n",
    "    def __init__(self, latent_dim=64):\n",
    "        super(Autoencoder, self).__init__()\n",
    "        self.encoder = nn.Sequential(\n",
    "            ResidualBlock(3, 64, stride=2),\n",
    "            ResidualBlock(64, 128, stride=2)\n",
    "        )\n",
    "        self.flatten = nn.Flatten()\n",
    "        self.fc1 = nn.Linear(128 * 16 * 16, latent_dim)\n",
    "        self.fc2 = nn.Linear(latent_dim, 128* 16 * 16)\n",
    "        self.unflatten = nn.Unflatten(1, (128, 16, 16))\n",
    "        self.decoder = nn.Sequential(\n",
    "            nn.Upsample(scale_factor=2, mode='nearest'),\n",
    "            ResidualBlock(128, 64, stride=1),\n",
    "            nn.Upsample(scale_factor=2, mode='nearest'),\n",
    "            ResidualBlock(64, 64, stride=1),\n",
    "            nn.Conv2d(64, 3, kernel_size=3, stride=1, padding=1),\n",
    "            nn.Tanh()\n",
    "        )\n",
    "\n",
    "    def forward(self, x):\n",
    "        enc = self.encoder(x)\n",
    "        latent_space = self.flatten(enc)\n",
    "        latent_space = self.fc1(latent_space)\n",
    "        x = self.fc2(latent_space)\n",
    "        x = self.unflatten(x)\n",
    "        x = self.decoder(x)\n",
    "        return x, latent_space\n",
    "\n",
    "# Perceptual loss using a pre-trained VGG network\n",
    "class PerceptualLoss(nn.Module):\n",
    "    def __init__(self):\n",
    "        super(PerceptualLoss, self).__init__()\n",
    "        vgg = torchvision.models.vgg16(pretrained=True).features\n",
    "        self.slice1 = nn.Sequential(*list(vgg.children())[:4]).eval()\n",
    "        for param in self.slice1.parameters():\n",
    "            param.requires_grad = False\n",
    "\n",
    "    def forward(self, x, y):\n",
    "        x_vgg, y_vgg = self.slice1(x), self.slice1(y)\n",
    "        loss = nn.functional.l1_loss(x_vgg, y_vgg)\n",
    "        return loss\n"
   ]
  },
  {
   "cell_type": "code",
   "execution_count": 4,
   "metadata": {},
   "outputs": [],
   "source": [
    "def save_model(epoch, model):\n",
    "    model_path = os.path.join(save_dir, f'model_epoch_{epoch + 1}.pth')\n",
    "    torch.save(model.state_dict(), model_path)\n",
    "    print(f'Model saved at epoch {epoch + 1}')\n",
    "\n",
    "def load_model(model_path):\n",
    "    model = Autoencoder()\n",
    "    model.load_state_dict(torch.load(model_path, map_location=device))\n",
    "    model.to(device)\n",
    "    print(f\"Model loaded from {model_path}\")\n",
    "    return model\n",
    "\n",
    "# Laplacian filter to extract high-frequency components\n",
    "laplacian_kernel = torch.tensor([[0, -1, 0], [-1, 4, -1], [0, -1, 0]], dtype=torch.float32).unsqueeze(0).unsqueeze(0)\n",
    "laplacian_kernel = laplacian_kernel.to(device)\n",
    "\n",
    "def high_pass_filter(img):\n",
    "    batch_size, channels, height, width = img.size()\n",
    "    filtered_img = torch.empty_like(img)\n",
    "    for i in range(channels):\n",
    "        filtered_img[:, i:i+1, :, :] = F.conv2d(img[:, i:i+1, :, :], laplacian_kernel, padding=1)\n",
    "    return filtered_img\n",
    "\n",
    "def check_for_nans(tensor, name):\n",
    "    if torch.isnan(tensor).any():\n",
    "        print(f'NaNs found in {name}')\n",
    "        return True\n",
    "    return False\n"
   ]
  },
  {
   "cell_type": "code",
   "execution_count": 34,
   "metadata": {},
   "outputs": [],
   "source": [
    "import matplotlib.pyplot as plt\n",
    "\n",
    "# Training loop with high-frequency emphasis\n",
    "dataloader = data_loader\n",
    "\n",
    "def sample_image(model, dataset):\n",
    "    model.eval()\n",
    "    with torch.no_grad():\n",
    "        random_idx = np.random.randint(0, len(dataset))\n",
    "        random_image = dataset[random_idx].to(device)\n",
    "        reconstructed_image, latent_space = model(random_image)\n",
    "        print(\"original image\")\n",
    "        plt.figure(figsize=(3,3))\n",
    "        plt.imshow(random_image.squeeze(0).transpose(2,0).transpose(0,1).cpu())\n",
    "        plt.axis('off')\n",
    "        plt.show()\n",
    "        print(\"reconstructed image\")\n",
    "        plt.figure(figsize=(3,3))\n",
    "        plt.imshow(reconstructed_image.squeeze(0).transpose(2,0).transpose(0,1).cpu())\n",
    "        plt.axis('off')\n",
    "        plt.show()\n",
    "    \n",
    "def train_autoencoder(model, start_epoch=0, num_epochs=100):\n",
    "    criterion = nn.L1Loss()\n",
    "    perceptual_loss = PerceptualLoss().to(device)\n",
    "    optimizer = torch.optim.AdamW(model.parameters(), lr=learning_rate, weight_decay=weight_decay)\n",
    "    scaler = GradScaler()\n",
    "    writer = SummaryWriter()\n",
    "\n",
    "    for epoch in range(start_epoch, num_epochs):\n",
    "        model.train()\n",
    "        running_loss = 0.0\n",
    "        optimizer.zero_grad()\n",
    "\n",
    "        for i, inputs in enumerate(dataloader):\n",
    "            inputs = inputs.to(device)\n",
    "            inputs = inputs.view(-1, 3, 64, 64).to(device)\n",
    "\n",
    "            with autocast():\n",
    "                reconstructed, _ = model(inputs)\n",
    "                if check_for_nans(reconstructed, 'reconstructed'):\n",
    "                    continue\n",
    "                high_freq_inputs = high_pass_filter(inputs)\n",
    "                high_freq_reconstructed = high_pass_filter(reconstructed)\n",
    "                loss = criterion(reconstructed, inputs) + perceptual_loss(reconstructed, inputs)\n",
    "                #high_freq_loss = criterion(high_freq_reconstructed, high_freq_inputs)\n",
    "                #loss += high_freq_loss\n",
    "                loss = loss / accumulation_steps\n",
    "\n",
    "            scaler.scale(loss).backward()\n",
    "\n",
    "            if (i + 1) % accumulation_steps == 0:\n",
    "                scaler.unscale_(optimizer)\n",
    "                torch.nn.utils.clip_grad_norm_(model.parameters(), max_grad_norm)\n",
    "                scaler.step(optimizer)\n",
    "                scaler.update()\n",
    "                optimizer.zero_grad()\n",
    "\n",
    "            running_loss += loss.item() * accumulation_steps\n",
    "\n",
    "            if i % 10 == 0:\n",
    "                print(f'Epoch {epoch + 1}, Step {i + 1}/{len(dataloader)}, Loss: {loss.item() * accumulation_steps}')\n",
    "                writer.add_scalar('Loss/train', loss.item() * accumulation_steps, epoch * len(dataloader) + i)\n",
    "\n",
    "        avg_loss = running_loss / len(dataloader)\n",
    "        writer.add_scalar('Loss/epoch', avg_loss, epoch)\n",
    "        print(f'Epoch {epoch + 1} finished with avg loss: {avg_loss}')\n",
    "\n",
    "        model.eval()\n",
    "        with torch.no_grad():\n",
    "            random_idx = np.random.randint(0, len(dataset))\n",
    "            random_image = dataset[random_idx].to(device)\n",
    "            reconstructed_image, latent_space = model(random_image)\n",
    "            print(reconstructed_image.shape)\n",
    "            plt.imshow(reconstructed_image.squeeze(0).transpose(2,0).transpose(0,1).cpu())\n",
    "            plt.show()\n",
    "            writer.add_image('Original Image', (random_image.squeeze(0) + 1) / 2, epoch)\n",
    "            writer.add_image('Reconstructed Image', (reconstructed_image.squeeze(0) + 1) / 2, epoch)\n",
    "\n",
    "        if (epoch + 1) % save_interval == 0:\n",
    "            save_model(epoch, model)\n",
    "\n",
    "    writer.close()\n"
   ]
  },
  {
   "cell_type": "code",
   "execution_count": 35,
   "metadata": {},
   "outputs": [
    {
     "name": "stdout",
     "output_type": "stream",
     "text": [
      "4.692227\n"
     ]
    }
   ],
   "source": [
    "# Initialize the model\n",
    "model = Autoencoder().to(device)\n",
    "sum =0\n",
    "for p in model.parameters():\n",
    "    sum += p.numel()\n",
    "print(sum/1e6)\n",
    "    "
   ]
  },
  {
   "cell_type": "code",
   "execution_count": 73,
   "metadata": {},
   "outputs": [
    {
     "name": "stderr",
     "output_type": "stream",
     "text": [
      "Clipping input data to the valid range for imshow with RGB data ([0..1] for floats or [0..255] for integers). Got range [-2.117904..2.6051416].\n"
     ]
    },
    {
     "name": "stdout",
     "output_type": "stream",
     "text": [
      "original image\n"
     ]
    },
    {
     "data": {
      "image/png": "[encoded data removed]",
      "text/plain": [
       "<Figure size 300x300 with 1 Axes>"
      ]
     },
     "metadata": {},
     "output_type": "display_data"
    },
    {
     "name": "stdout",
     "output_type": "stream",
     "text": [
      "reconstructed image\n"
     ]
    },
    {
     "data": {
      "image/png": "[encoded data removed]",
      "text/plain": [
       "<Figure size 300x300 with 1 Axes>"
      ]
     },
     "metadata": {},
     "output_type": "display_data"
    }
   ],
   "source": [
    "sample_dataset = marioDataset(path_dir='data/mario/',num_frames=1, transform=transform)\n",
    "sample_image(model, sample_dataset)"
   ]
  },
  {
   "cell_type": "code",
   "execution_count": 37,
   "metadata": {},
   "outputs": [
    {
     "name": "stdout",
     "output_type": "stream",
     "text": [
      "The tensorboard extension is already loaded. To reload it, use:\n",
      "  %reload_ext tensorboard\n"
     ]
    },
    {
     "data": {
      "text/plain": [
       "Reusing TensorBoard on port 6006 (pid 6564), started 2 days, 23:44:22 ago. (Use '!kill 6564' to kill it.)"
      ]
     },
     "metadata": {},
     "output_type": "display_data"
    },
    {
     "data": {
      "text/html": [
       "\n",
       "      <iframe id=\"tensorboard-frame-a02a6f6ebbff5d20\" width=\"100%\" height=\"800\" frameborder=\"0\">\n",
       "      </iframe>\n",
       "      <script>\n",
       "        (function() {\n",
       "          const frame = document.getElementById(\"tensorboard-frame-a02a6f6ebbff5d20\");\n",
       "          const url = new URL(\"http://localhost\");\n",
       "          const port = 6006;\n",
       "          if (port) {\n",
       "            url.port = port;\n",
       "          }\n",
       "          frame.src = url;\n",
       "        })();\n",
       "      </script>\n",
       "    "
      ],
      "text/plain": [
       "<IPython.core.display.HTML object>"
      ]
     },
     "metadata": {},
     "output_type": "display_data"
    },
    {
     "name": "stderr",
     "output_type": "stream",
     "text": [
      "c:\\Users\\anmol\\anaconda3\\lib\\site-packages\\torchvision\\models\\_utils.py:208: UserWarning: The parameter 'pretrained' is deprecated since 0.13 and may be removed in the future, please use 'weights' instead.\n",
      "  warnings.warn(\n",
      "c:\\Users\\anmol\\anaconda3\\lib\\site-packages\\torchvision\\models\\_utils.py:223: UserWarning: Arguments other than a weight enum or `None` for 'weights' are deprecated since 0.13 and may be removed in the future. The current behavior is equivalent to passing `weights=VGG16_Weights.IMAGENET1K_V1`. You can also use `weights=VGG16_Weights.DEFAULT` to get the most up-to-date weights.\n",
      "  warnings.warn(msg)\n"
     ]
    },
    {
     "name": "stdout",
     "output_type": "stream",
     "text": [
      "Epoch 1, Step 1/244, Loss: 2.712007522583008\n",
      "Epoch 1, Step 11/244, Loss: 2.0832200050354004\n",
      "Epoch 1, Step 21/244, Loss: 1.8265053033828735\n",
      "Epoch 1, Step 31/244, Loss: 1.9385706186294556\n",
      "Epoch 1, Step 41/244, Loss: 1.7082710266113281\n",
      "Epoch 1, Step 51/244, Loss: 1.5096160173416138\n",
      "Epoch 1, Step 61/244, Loss: 1.588064432144165\n",
      "Epoch 1, Step 71/244, Loss: 1.4793654680252075\n",
      "Epoch 1, Step 81/244, Loss: 1.5995228290557861\n",
      "Epoch 1, Step 91/244, Loss: 1.5537381172180176\n",
      "Epoch 1, Step 101/244, Loss: 1.7136292457580566\n",
      "Epoch 1, Step 111/244, Loss: 1.897452473640442\n",
      "Epoch 1, Step 121/244, Loss: 1.711723804473877\n",
      "Epoch 1, Step 131/244, Loss: 1.5808875560760498\n",
      "Epoch 1, Step 141/244, Loss: 1.7237789630889893\n",
      "Epoch 1, Step 151/244, Loss: 1.513847827911377\n",
      "Epoch 1, Step 161/244, Loss: 1.5825599431991577\n",
      "Epoch 1, Step 171/244, Loss: 1.7293996810913086\n",
      "Epoch 1, Step 181/244, Loss: 1.7496023178100586\n",
      "Epoch 1, Step 191/244, Loss: 1.7549148797988892\n",
      "Epoch 1, Step 201/244, Loss: 1.5238338708877563\n",
      "Epoch 1, Step 211/244, Loss: 1.4372029304504395\n",
      "Epoch 1, Step 221/244, Loss: 1.73737633228302\n",
      "Epoch 1, Step 231/244, Loss: 1.5883417129516602\n",
      "Epoch 1, Step 241/244, Loss: 1.5207297801971436\n",
      "NaNs found in reconstructed\n",
      "Epoch 1 finished with avg loss: 1.6881429675172588\n",
      "torch.Size([1, 3, 64, 64])\n"
     ]
    },
    {
     "data": {
      "image/png": "[encoded data removed]",
      "text/plain": [
       "<Figure size 640x480 with 1 Axes>"
      ]
     },
     "metadata": {},
     "output_type": "display_data"
    },
    {
     "name": "stderr",
     "output_type": "stream",
     "text": [
      "c:\\Users\\anmol\\anaconda3\\lib\\site-packages\\torch\\utils\\tensorboard\\summary.py:574: RuntimeWarning: invalid value encountered in cast\n",
      "  tensor = (tensor * scale_factor).clip(0, 255).astype(np.uint8)\n"
     ]
    },
    {
     "name": "stdout",
     "output_type": "stream",
     "text": [
      "Model saved at epoch 1\n",
      "Epoch 2, Step 1/244, Loss: 1.4482073783874512\n",
      "Epoch 2, Step 11/244, Loss: 1.8168919086456299\n",
      "Epoch 2, Step 21/244, Loss: 1.4549083709716797\n",
      "Epoch 2, Step 31/244, Loss: 1.5896458625793457\n",
      "Epoch 2, Step 41/244, Loss: 1.3727595806121826\n",
      "Epoch 2, Step 51/244, Loss: 1.5389044284820557\n",
      "Epoch 2, Step 61/244, Loss: 1.5853750705718994\n",
      "Epoch 2, Step 71/244, Loss: 1.5785335302352905\n",
      "Epoch 2, Step 81/244, Loss: 1.6000640392303467\n",
      "Epoch 2, Step 91/244, Loss: 1.703873634338379\n",
      "Epoch 2, Step 101/244, Loss: 1.457298755645752\n",
      "Epoch 2, Step 111/244, Loss: 1.4124259948730469\n",
      "Epoch 2, Step 121/244, Loss: 1.512451171875\n",
      "Epoch 2, Step 131/244, Loss: 1.6777440309524536\n",
      "Epoch 2, Step 141/244, Loss: 1.5363837480545044\n",
      "Epoch 2, Step 151/244, Loss: 1.376021146774292\n",
      "Epoch 2, Step 161/244, Loss: 1.4013715982437134\n",
      "Epoch 2, Step 171/244, Loss: 1.4624831676483154\n",
      "Epoch 2, Step 181/244, Loss: 1.5735750198364258\n",
      "Epoch 2, Step 191/244, Loss: 1.4151604175567627\n",
      "Epoch 2, Step 201/244, Loss: 1.4849143028259277\n",
      "Epoch 2, Step 211/244, Loss: 1.4531242847442627\n",
      "Epoch 2, Step 221/244, Loss: 1.5612635612487793\n",
      "Epoch 2, Step 231/244, Loss: 1.3358968496322632\n",
      "Epoch 2, Step 241/244, Loss: 1.6080909967422485\n",
      "NaNs found in reconstructed\n",
      "Epoch 2 finished with avg loss: 1.5225342047996209\n",
      "torch.Size([1, 3, 64, 64])\n"
     ]
    },
    {
     "data": {
      "image/png": "[encoded data removed]",
      "text/plain": [
       "<Figure size 640x480 with 1 Axes>"
      ]
     },
     "metadata": {},
     "output_type": "display_data"
    },
    {
     "name": "stdout",
     "output_type": "stream",
     "text": [
      "Model saved at epoch 2\n",
      "Epoch 3, Step 1/244, Loss: 1.421208143234253\n",
      "Epoch 3, Step 11/244, Loss: 1.33113694190979\n",
      "Epoch 3, Step 21/244, Loss: 1.3699007034301758\n",
      "Epoch 3, Step 31/244, Loss: 1.4242067337036133\n",
      "Epoch 3, Step 41/244, Loss: 1.4545261859893799\n",
      "Epoch 3, Step 51/244, Loss: 1.4117542505264282\n",
      "Epoch 3, Step 61/244, Loss: 1.4331307411193848\n",
      "Epoch 3, Step 71/244, Loss: 1.4279499053955078\n",
      "Epoch 3, Step 81/244, Loss: 1.3717609643936157\n",
      "Epoch 3, Step 91/244, Loss: 1.565197229385376\n",
      "Epoch 3, Step 101/244, Loss: 1.6375114917755127\n",
      "Epoch 3, Step 111/244, Loss: 1.4864294528961182\n",
      "Epoch 3, Step 121/244, Loss: 1.48714280128479\n",
      "Epoch 3, Step 131/244, Loss: 1.67490553855896\n",
      "Epoch 3, Step 141/244, Loss: 1.5710725784301758\n",
      "Epoch 3, Step 151/244, Loss: 1.6592872142791748\n",
      "Epoch 3, Step 161/244, Loss: 1.5309735536575317\n",
      "Epoch 3, Step 171/244, Loss: 1.3838884830474854\n",
      "Epoch 3, Step 181/244, Loss: 1.48256254196167\n",
      "Epoch 3, Step 191/244, Loss: 1.5758839845657349\n",
      "Epoch 3, Step 201/244, Loss: 1.3332834243774414\n",
      "Epoch 3, Step 211/244, Loss: 1.4599602222442627\n",
      "Epoch 3, Step 221/244, Loss: 2.0718467235565186\n",
      "Epoch 3, Step 231/244, Loss: 1.2431663274765015\n",
      "Epoch 3, Step 241/244, Loss: 1.6035611629486084\n",
      "NaNs found in reconstructed\n",
      "Epoch 3 finished with avg loss: 1.4795244726978365\n",
      "torch.Size([1, 3, 64, 64])\n"
     ]
    },
    {
     "data": {
      "image/png": "[encoded data removed]",
      "text/plain": [
       "<Figure size 640x480 with 1 Axes>"
      ]
     },
     "metadata": {},
     "output_type": "display_data"
    },
    {
     "name": "stdout",
     "output_type": "stream",
     "text": [
      "Model saved at epoch 3\n",
      "Epoch 4, Step 1/244, Loss: 1.6012628078460693\n",
      "Epoch 4, Step 11/244, Loss: 1.415285587310791\n",
      "Epoch 4, Step 21/244, Loss: 1.438281774520874\n",
      "Epoch 4, Step 31/244, Loss: 1.438401460647583\n",
      "Epoch 4, Step 41/244, Loss: 1.3986282348632812\n",
      "Epoch 4, Step 51/244, Loss: 1.2985087633132935\n",
      "Epoch 4, Step 61/244, Loss: 1.488074779510498\n",
      "Epoch 4, Step 71/244, Loss: 1.4584240913391113\n",
      "Epoch 4, Step 81/244, Loss: 1.5881115198135376\n",
      "Epoch 4, Step 91/244, Loss: 1.3222744464874268\n",
      "Epoch 4, Step 101/244, Loss: 1.4745843410491943\n",
      "Epoch 4, Step 111/244, Loss: 1.4758954048156738\n",
      "Epoch 4, Step 121/244, Loss: 1.3583018779754639\n",
      "Epoch 4, Step 131/244, Loss: 1.5393298864364624\n",
      "Epoch 4, Step 141/244, Loss: 1.4359503984451294\n",
      "Epoch 4, Step 151/244, Loss: 1.422898530960083\n",
      "Epoch 4, Step 161/244, Loss: 1.4224066734313965\n",
      "Epoch 4, Step 171/244, Loss: 1.638453483581543\n",
      "Epoch 4, Step 181/244, Loss: 1.2987964153289795\n",
      "Epoch 4, Step 191/244, Loss: 1.2553694248199463\n",
      "Epoch 4, Step 201/244, Loss: 1.3593839406967163\n",
      "Epoch 4, Step 211/244, Loss: 1.4152936935424805\n",
      "Epoch 4, Step 221/244, Loss: 1.3237847089767456\n",
      "Epoch 4, Step 231/244, Loss: 1.453433632850647\n",
      "Epoch 4, Step 241/244, Loss: 1.4421772956848145\n",
      "NaNs found in reconstructed\n",
      "Epoch 4 finished with avg loss: 1.4350609197968343\n",
      "torch.Size([1, 3, 64, 64])\n"
     ]
    },
    {
     "data": {
      "image/png": "[encoded data removed]",
      "text/plain": [
       "<Figure size 640x480 with 1 Axes>"
      ]
     },
     "metadata": {},
     "output_type": "display_data"
    },
    {
     "name": "stdout",
     "output_type": "stream",
     "text": [
      "Model saved at epoch 4\n",
      "Epoch 5, Step 1/244, Loss: 1.4636648893356323\n",
      "Epoch 5, Step 11/244, Loss: 1.353851556777954\n",
      "Epoch 5, Step 21/244, Loss: 1.4163928031921387\n",
      "Epoch 5, Step 31/244, Loss: 1.3839761018753052\n",
      "Epoch 5, Step 41/244, Loss: 1.478178858757019\n",
      "Epoch 5, Step 51/244, Loss: 1.599113941192627\n",
      "Epoch 5, Step 61/244, Loss: 1.3250164985656738\n",
      "Epoch 5, Step 71/244, Loss: 1.2715972661972046\n",
      "Epoch 5, Step 81/244, Loss: 1.5877454280853271\n",
      "Epoch 5, Step 91/244, Loss: 1.344803810119629\n",
      "Epoch 5, Step 101/244, Loss: 1.3839051723480225\n",
      "Epoch 5, Step 111/244, Loss: 1.4764766693115234\n",
      "Epoch 5, Step 121/244, Loss: 1.511641263961792\n",
      "Epoch 5, Step 131/244, Loss: 1.371205449104309\n",
      "Epoch 5, Step 141/244, Loss: 1.5062402486801147\n",
      "Epoch 5, Step 151/244, Loss: 1.4570939540863037\n",
      "Epoch 5, Step 161/244, Loss: 1.340484380722046\n",
      "Epoch 5, Step 171/244, Loss: 1.3753244876861572\n",
      "Epoch 5, Step 181/244, Loss: 1.4795045852661133\n",
      "Epoch 5, Step 191/244, Loss: 1.4938809871673584\n",
      "Epoch 5, Step 201/244, Loss: 1.441659688949585\n",
      "Epoch 5, Step 211/244, Loss: 1.3582921028137207\n",
      "Epoch 5, Step 221/244, Loss: 1.4685536623001099\n",
      "Epoch 5, Step 231/244, Loss: 1.4805495738983154\n",
      "Epoch 5, Step 241/244, Loss: 1.2810579538345337\n",
      "NaNs found in reconstructed\n",
      "Epoch 5 finished with avg loss: 1.4162753786219926\n",
      "torch.Size([1, 3, 64, 64])\n"
     ]
    },
    {
     "data": {
      "image/png": "[encoded data removed]",
      "text/plain": [
       "<Figure size 640x480 with 1 Axes>"
      ]
     },
     "metadata": {},
     "output_type": "display_data"
    },
    {
     "name": "stdout",
     "output_type": "stream",
     "text": [
      "Model saved at epoch 5\n"
     ]
    }
   ],
   "source": [
    "# Start TensorBoard\n",
    "%load_ext tensorboard\n",
    "%tensorboard --logdir=runs\n",
    "\n",
    "train_autoencoder(model, start_epoch=0, num_epochs=5)"
   ]
  },
  {
   "cell_type": "code",
   "execution_count": 39,
   "metadata": {},
   "outputs": [
    {
     "name": "stderr",
     "output_type": "stream",
     "text": [
      "kill: 6564: No such process\n"
     ]
    }
   ],
   "source": [
    "!kill 6564"
   ]
  }
 ],
 "metadata": {
  "kernelspec": {
   "display_name": "base",
   "language": "python",
   "name": "python3"
  },
  "language_info": {
   "codemirror_mode": {
    "name": "ipython",
    "version": 3
   },
   "file_extension": ".py",
   "mimetype": "text/x-python",
   "name": "python",
   "nbconvert_exporter": "python",
   "pygments_lexer": "ipython3",
   "version": "3.10.9"
  }
 },
 "nbformat": 4,
 "nbformat_minor": 2
}
